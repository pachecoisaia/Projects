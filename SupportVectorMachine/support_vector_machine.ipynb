{
 "cells": [
  {
   "cell_type": "markdown",
   "metadata": {},
   "source": [
    "# CS596 Machine Learning \n",
    "# Assignment 4: Support vector machine (SVM) model\n",
    "\n",
    "### Due 11:59 pm, Sunday, 2/26/2021\n",
    "\n",
    "### Total: 10 points\n",
    "\n",
    "In this assignment, we will build a \"toy\" SVM model using a mini dataset step by step.\n",
    "\n",
    "Your goal is to run all the cells below one by one from top to bottom. Before you run some task cells, you need to complete the missing lines (notified by \"= None\" in Python) in them. \n",
    "\n",
    "For each **task** cell that requires your completion, you can run the **evaluation** cell right after it to check if your answer correct.\n",
    "The output of the evaluation cell should be the same as the \"expected output\" provided. (Some mismatch in the last digit of floating numbers is tolerable)\n",
    "\n",
    "---\n",
    "# Install dependencies\n",
    "\n",
    "**quadprog** is a Python package for solving quadratic programming problems. You can install it using the following command:\n",
    "```\n",
    "pip install quadprog\n",
    "```\n",
    "Note: Windows users may need to install Visual C++ 14 first (https://visualstudio.microsoft.com/visual-cpp-build-tools/)."
   ]
  },
  {
   "cell_type": "code",
   "execution_count": 3,
   "metadata": {},
   "outputs": [],
   "source": [
    "import quadprog\n",
    "import numpy as np\n",
    "\n",
    "\n",
    "# The helper function. Dot not change it\n",
    "def quadprog_solve_qp(P, q, G=None, h=None, A=None, b=None):\n",
    "    qp_G = .5 * (P + P.T)   # make sure P is symmetric\n",
    "    qp_a = -q\n",
    "    if A is not None:\n",
    "        qp_C = -np.vstack([A, G]).T\n",
    "        qp_b = -np.hstack([b, h])\n",
    "        meq = A.shape[0]\n",
    "    else:  # no equality constraint\n",
    "        qp_C = -G.T\n",
    "        qp_b = -h\n",
    "        meq = 0\n",
    "    return quadprog.solve_qp(qp_G, qp_a, qp_C, qp_b, meq)[0]\n",
    "\n",
    "# Toy data\n",
    "X = np.array([\n",
    "    [0, 0],\n",
    "    [2, 0],\n",
    "    [0, 2],\n",
    "    [3, 3],\n",
    "    [4, 4]\n",
    "])\n",
    "Y = np.array([-1, -1, -1, 1, 1])"
   ]
  },
  {
   "cell_type": "markdown",
   "metadata": {},
   "source": [
    "---\n",
    "\n",
    "# Task\n",
    "We want to build an SVM model on the toy dataset: \n",
    "\n",
    "\\begin{equation}\n",
    "    x^{(1)} = (0,0),\\ y^{(1)}=-1\\\\\n",
    "    x^{(2)} = (2,0),\\ y^{(2)}=-1\\\\\n",
    "    x^{(3)} = (0,2),\\ y^{(3)}=-1\\\\\n",
    "    x^{(4)} = (3,3),\\ y^{(4)}=1\\\\\n",
    "    x^{(5)} = (4,4),\\ y^{(5)}=1\\\\\n",
    "\\end{equation}\n",
    "\n",
    "We need to solve the quadratic programming (QP) problem as the following form:\n",
    "\n",
    "\\begin{equation}\n",
    "    \\min_{\\alpha}\\big( \\frac{1}{2}\\alpha^{T}Q\\alpha - (\\textbf{1})^{T}\\alpha \\big) \\\\\n",
    "    \\text{subject to: } y^{T}\\alpha=0,\\ \\alpha\\geq 0\n",
    "\\end{equation}\n",
    "\n",
    "The quadprog package by defaualt solves the QP as this form:\n",
    "\n",
    "\\begin{equation}\n",
    "    \\min_{x}\\big( \\frac{1}{2}x^{T}Px + q^{T}x \\big) \\\\\n",
    "    \\text{subject to: } Gx\\leq h,\\ Ax = b\n",
    "\\end{equation}\n",
    "\n",
    "Therefore, in order to use quadprog, we need to establish the responding relationships between variables: \n",
    "$P=Q$, $q = -(\\textbf{1})^{T}$, $G = -(\\textbf{1})^{T}$, $h=(\\textbf{0})^{T}$, $A=y^T$, $b=(\\textbf{0})^{T}$\n",
    "\n",
    "\n",
    "\n",
    "---\n",
    "## Task 1: Compute matrix $Q$\n",
    "\n",
    "**3 points**\n",
    "\n",
    "First, we need to use $x^{(i)}$ and $y^{(i)}$ to compute matrix $Q$:\n",
    "\n",
    "\\begin{equation}\n",
    "    Q = \\begin{bmatrix}\n",
    "    y^{(1)}y^{(1)}x^{(1)T}x^{(1)} & y^{(1)}y^{(2)}x^{(1)T}x^{(2)} & \\dots & y^{(1)}y^{(5)}x^{(1)T}x^{(5)} \\\\\n",
    "    y^{(2)}y^{(1)}x^{(2)T}x^{(1)} & y^{(2)}y^{(2)}x^{(2)T}x^{(2)} & \\dots & y^{(2)}y^{(5)}x^{(2)T}x^{(5)} \\\\\n",
    "    \\vdots & \\vdots & \\ddots & \\vdots \\\\\n",
    "    y^{(5)}y^{(1)}x^{(5)T}x^{(1)} & y^{(5)}y^{(2)}x^{(5)T}x^{(2)} & \\dots & y^{(5)}y^{(5)}x^{(5)T}x^{(5)} \\\\\n",
    "    \\end{bmatrix}\n",
    "\\end{equation}\n"
   ]
  },
  {
   "cell_type": "code",
   "execution_count": 10,
   "metadata": {},
   "outputs": [
    {
     "name": "stdout",
     "output_type": "stream",
     "text": [
      "Q =  [[ 0.  0.  0.  0.  0.]\n",
      " [ 0.  4.  0. -6. -8.]\n",
      " [ 0.  0.  4. -6. -8.]\n",
      " [ 0. -6. -6. 18. 24.]\n",
      " [ 0. -8. -8. 24. 32.]]\n"
     ]
    }
   ],
   "source": [
    "Q = np.zeros((5, 5))\n",
    "\n",
    "### START YOUR CODE ###\n",
    "for i in range(Q.shape[0]):\n",
    "    for j in range(Q.shape[1]):\n",
    "        # Use the ith and jth examples in X and Y to compute Q_ij\n",
    "        # Hint: Q_ij = y^i * y^j * (x^i @ x^j)\n",
    "        Q[i, j] = Y[i] * Y[j] * (X[i] @ X[j])\n",
    "### END YOUR CODE ###\n",
    "\n",
    "print('Q = ', Q)"
   ]
  },
  {
   "cell_type": "markdown",
   "metadata": {},
   "source": [
    "### Expected output\n",
    "&nbsp;|&nbsp;\n",
    "--|--\n",
    "**Q =**|[[ 0.  0.  0.  0.  0.] <br>[ 0.  4.  0. -6. -8.] <br> [ 0.  0.  4. -6. -8.] <br> [ 0. -6. -6. 18. 24.] <br> [ 0. -8. -8. 24. 32.]]\n",
    "\n",
    "---\n",
    "## Task 2: Computer other variables\n",
    "**3 points**\n",
    "\n",
    "Use the folumas: $P=Q$, $q = -(\\textbf{1})^{T}$, $G = -(\\textbf{1})^{T}$, $h=(\\textbf{0})^{T}$, $A=y^T$, $b=(\\textbf{0})^{T}$"
   ]
  },
  {
   "cell_type": "code",
   "execution_count": 6,
   "metadata": {},
   "outputs": [
    {
     "name": "stdout",
     "output_type": "stream",
     "text": [
      "q =  [-1. -1. -1. -1. -1.]\n",
      "G =  [[-1. -0. -0. -0. -0.]\n",
      " [-0. -1. -0. -0. -0.]\n",
      " [-0. -0. -1. -0. -0.]\n",
      " [-0. -0. -0. -1. -0.]\n",
      " [-0. -0. -0. -0. -1.]]\n",
      "h =  [0. 0. 0. 0. 0.]\n",
      "b =  [0.]\n"
     ]
    }
   ],
   "source": [
    "### START YOUR CODE ###\n",
    "P = Q + np.eye(5)*1e-5 # To solve the non-positive finite issue\n",
    "\n",
    "# Hint: Use np.ones(), q is of length 5\n",
    "q =  -1 * np.ones(5).T\n",
    "\n",
    "# Hint: G is a matrix whose diagnal elements are 1s, and other elements are 0s. Use np.eye()\n",
    "G = -1 * np.eye(5)\n",
    "\n",
    "# Hint: h is of length 5, with all zeros; Use np.zeros()\n",
    "h = np.zeros(5).T\n",
    "\n",
    "A = Y.reshape((1,5))\n",
    "\n",
    "# Hint: b is of length 1, with zero value; Use np.zeros()\n",
    "b = np.zeros(1).T\n",
    "\n",
    "### END YOUR CODE ###\n",
    "\n",
    "print('q = ', q)\n",
    "print('G = ', G)\n",
    "print('h = ', h)\n",
    "print('b = ', b)"
   ]
  },
  {
   "cell_type": "markdown",
   "metadata": {},
   "source": [
    "### Expected output\n",
    "&nbsp;|&nbsp;\n",
    "--|--\n",
    "**q =**|  [-1. -1. -1. -1. -1.]\n",
    "**G =**|[[-1. -0. -0. -0. -0.]<br> [-0. -1. -0. -0. -0.]<br> [-0. -0. -1. -0. -0.]<br> [-0. -0. -0. -1. -0.]<br> [-0. -0. -0. -0. -1.]]\n",
    "**h =**|  [0. 0. 0. 0. 0.]\n",
    "**b =**|  [0.]\n",
    "\n",
    "---\n",
    "\n",
    "## Task 3: Call quadprog\n",
    "**1 point**"
   ]
  },
  {
   "cell_type": "code",
   "execution_count": 9,
   "metadata": {},
   "outputs": [
    {
     "name": "stdout",
     "output_type": "stream",
     "text": [
      "solution =  [0.         0.12499977 0.12499977 0.24999953 0.        ]\n",
      "The support vectors are:  [[2 0]\n",
      " [0 2]\n",
      " [3 3]]\n"
     ]
    }
   ],
   "source": [
    "### START YOUR CODE ###\n",
    "\n",
    "# Hint: Call quadprog_solve_qp() with the correct arguments\n",
    "solution = quadprog_solve_qp(P,q,G,h,A,b)\n",
    "\n",
    "### END YOUR CODE ###\n",
    "\n",
    "print('solution = ', solution)\n",
    "print('The support vectors are: ', X[solution > 0, ])"
   ]
  },
  {
   "cell_type": "markdown",
   "metadata": {},
   "source": [
    "### Expected output\n",
    "&nbsp;|&nbsp;\n",
    "--|--\n",
    "**solution $\\approx$**|[0. 0.125 0.125 0.25 0]\n",
    "**The support vectors are:** | [[2 0]<br> [0 2]<br> [3 3]]<br>\n",
    "\n",
    "---\n",
    "## Task 4: Solve the decision boundary\n",
    "**3 points**\n",
    "\n",
    "Use the support vectors to solve the $w$ and $b$ in the decision boundary $w^Tx+b=0$. Use the property that a support vector $x^{(k)}$ must satistify $y^{(k)}(w^Tx^{(k)}+b) = 1$. You can solve it with a paper and pen by listing linear equations."
   ]
  },
  {
   "cell_type": "code",
   "execution_count": null,
   "metadata": {},
   "outputs": [],
   "source": [
    "### START YOUR ANSWERS ###\n",
    "# -2w1 + 0w2 -b = 1\n",
    "# 0w1 -2w2 - b = 1\n",
    "# 3w1 + 3w2 + b = 1\n",
    "w1 = 1/2\n",
    "w2 = 1/2\n",
    "b = -2\n",
    "### END YOUR ANSWERS\n",
    "\n",
    "print('w1 = ', w1)\n",
    "print('w2 = ', w2)\n",
    "print('b = ', b)"
   ]
  }
 ],
 "metadata": {
  "kernelspec": {
   "display_name": "Python 3",
   "language": "python",
   "name": "python3"
  },
  "language_info": {
   "codemirror_mode": {
    "name": "ipython",
    "version": 3
   },
   "file_extension": ".py",
   "mimetype": "text/x-python",
   "name": "python",
   "nbconvert_exporter": "python",
   "pygments_lexer": "ipython3",
   "version": "3.8.7"
  }
 },
 "nbformat": 4,
 "nbformat_minor": 4
}
